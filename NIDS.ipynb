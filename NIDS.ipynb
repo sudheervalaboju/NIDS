{
 "cells": [
  {
   "cell_type": "code",
   "execution_count": 2,
   "metadata": {},
   "outputs": [
    {
     "name": "stderr",
     "output_type": "stream",
     "text": [
      "Using TensorFlow backend.\n"
     ]
    }
   ],
   "source": [
    "# Here are some imports that are used along this notebook\n",
    "import math\n",
    "import itertools\n",
    "import pandas\n",
    "import numpy as np\n",
    "import pandas as pd\n",
    "import matplotlib.pyplot as plt\n",
    "from sklearn.metrics import accuracy_score, precision_score, recall_score, confusion_matrix\n",
    "import seaborn as sns\n",
    "from time import time\n",
    "import tensorflow as tf\n",
    "from collections import OrderedDict\n",
    "import keras\n",
    "from sklearn.model_selection import KFold\n",
    "from keras.utils import np_utils\n",
    "%matplotlib inline\n",
    "gt0 = time()"
   ]
  },
  {
   "cell_type": "code",
   "execution_count": 3,
   "metadata": {
    "collapsed": true
   },
   "outputs": [],
   "source": [
    "train_nsl_kdd_dataset_path = \"NSL_KDD_Dataset/KDDTrain+.txt\"\n",
    "test_nsl_kdd_dataset_path = \"NSL_KDD_Dataset/KDDTest+.txt\""
   ]
  },
  {
   "cell_type": "code",
   "execution_count": 4,
   "metadata": {},
   "outputs": [],
   "source": [
    "col_names = np.array([\"duration\",\"protocol_type\",\"service\",\"flag\",\"src_bytes\",\n",
    "    \"dst_bytes\",\"land\",\"wrong_fragment\",\"urgent\",\"hot\",\"num_failed_logins\",\n",
    "    \"logged_in\",\"num_compromised\",\"root_shell\",\"su_attempted\",\"num_root\",\n",
    "    \"num_file_creations\",\"num_shells\",\"num_access_files\",\"num_outbound_cmds\",\n",
    "    \"is_host_login\",\"is_guest_login\",\"count\",\"srv_count\",\"serror_rate\",\n",
    "    \"srv_serror_rate\",\"rerror_rate\",\"srv_rerror_rate\",\"same_srv_rate\",\n",
    "    \"diff_srv_rate\",\"srv_diff_host_rate\",\"dst_host_count\",\"dst_host_srv_count\",\n",
    "    \"dst_host_same_srv_rate\",\"dst_host_diff_srv_rate\",\"dst_host_same_src_port_rate\",\n",
    "    \"dst_host_srv_diff_host_rate\",\"dst_host_serror_rate\",\"dst_host_srv_serror_rate\",\n",
    "    \"dst_host_rerror_rate\",\"dst_host_srv_rerror_rate\",\"labels\"])"
   ]
  },
  {
   "cell_type": "code",
   "execution_count": 5,
   "metadata": {
    "collapsed": true
   },
   "outputs": [],
   "source": [
    "nominal_inx = [2, 3, 4]\n",
    "binary_inx = [7, 12, 14, 15, 21, 22]\n",
    "numeric_inx = [1, 5, 6, 8, 9, 10, 11, 13, 16, 17, 18, 19, 20, 23, 24, 25, 26, 27, 28, 29, 30, 31, 32, 33, 34, 35, 36, 37, 38, 39, 40, 41]"
   ]
  },
  {
   "cell_type": "code",
   "execution_count": 6,
   "metadata": {
    "collapsed": true
   },
   "outputs": [],
   "source": [
    "nominal_cols = []\n",
    "binary_cols = []\n",
    "numeric_cols = []\n",
    "nominal_cols.append(col_names[nominal_inx])\n",
    "binary_cols.append(col_names[binary_inx])\n",
    "numeric_cols.append(col_names[numeric_inx])\n",
    "#print(nominal_cols)"
   ]
  },
  {
   "cell_type": "code",
   "execution_count": 7,
   "metadata": {
    "collapsed": true
   },
   "outputs": [],
   "source": [
    "attack_dict_five_class = {\n",
    "    'normal': 'normal',\n",
    "    \n",
    "    'back': 'DoS',\n",
    "    'land': 'DoS',\n",
    "    'neptune': 'DoS',\n",
    "    'pod': 'DoS',\n",
    "    'smurf': 'DoS',\n",
    "    'teardrop': 'DoS',\n",
    "    'mailbomb': 'DoS',\n",
    "    'apache2': 'DoS',\n",
    "    'processtable': 'DoS',\n",
    "    'udpstorm': 'DoS',\n",
    "    \n",
    "    'ipsweep': 'Probe',\n",
    "    'nmap': 'Probe',\n",
    "    'portsweep': 'Probe',\n",
    "    'satan': 'Probe',\n",
    "    'mscan': 'Probe',\n",
    "    'saint': 'Probe',\n",
    "\n",
    "    'ftp_write': 'R2L',\n",
    "    'guess_passwd': 'R2L',\n",
    "    'imap': 'R2L',\n",
    "    'multihop': 'R2L',\n",
    "    'phf': 'R2L',\n",
    "    'spy': 'R2L',\n",
    "    'warezclient': 'R2L',\n",
    "    'warezmaster': 'R2L',\n",
    "    'sendmail': 'R2L',\n",
    "    'named': 'R2L',\n",
    "    'snmpgetattack': 'R2L',\n",
    "    'snmpguess': 'R2L',\n",
    "    'xlock': 'R2L',\n",
    "    'xsnoop': 'R2L',\n",
    "    'worm': 'R2L',\n",
    "    \n",
    "    'buffer_overflow': 'U2R',\n",
    "    'loadmodule': 'U2R',\n",
    "    'perl': 'U2R',\n",
    "    'rootkit': 'U2R',\n",
    "    'httptunnel': 'U2R',\n",
    "    'ps': 'U2R',    \n",
    "    'sqlattack': 'U2R',\n",
    "    'xterm': 'U2R'\n",
    "}\n",
    "\n",
    "attack_two_class = []\n",
    "for key in attack_dict_five_class.keys():\n",
    "    if key == 'normal':\n",
    "        pass\n",
    "    else:\n",
    "        attack_two_class.append(key)"
   ]
  },
  {
   "cell_type": "code",
   "execution_count": 11,
   "metadata": {},
   "outputs": [
    {
     "ename": "TypeError",
     "evalue": "drop() takes from 2 to 6 positional arguments but 10 were given",
     "output_type": "error",
     "traceback": [
      "\u001b[1;31m---------------------------------------------------------------------------\u001b[0m",
      "\u001b[1;31mTypeError\u001b[0m                                 Traceback (most recent call last)",
      "\u001b[1;32m<ipython-input-11-c2cf78b724a6>\u001b[0m in \u001b[0;36m<module>\u001b[1;34m()\u001b[0m\n\u001b[0;32m      2\u001b[0m \u001b[0mtrain_df\u001b[0m \u001b[1;33m=\u001b[0m \u001b[0mpd\u001b[0m\u001b[1;33m.\u001b[0m\u001b[0mread_csv\u001b[0m\u001b[1;33m(\u001b[0m\u001b[0mtrain_nsl_kdd_dataset_path\u001b[0m\u001b[1;33m,\u001b[0m \u001b[0mnames\u001b[0m \u001b[1;33m=\u001b[0m \u001b[0mcol_names\u001b[0m\u001b[1;33m)\u001b[0m\u001b[1;33m\u001b[0m\u001b[0m\n\u001b[0;32m      3\u001b[0m train_df = train_df.drop(\"num_file_creations\",\"num_shells\",\"num_access_files\",\"num_outbound_cmds\",\n\u001b[1;32m----> 4\u001b[1;33m     \"is_host_login\",\"is_guest_login\",\"count\",\"srv_count\",\"serror_rate\")\n\u001b[0m\u001b[0;32m      5\u001b[0m \u001b[1;31m# test_df  = pd.read_csv(test_nsl_kdd_dataset_path , names = col_names)\u001b[0m\u001b[1;33m\u001b[0m\u001b[1;33m\u001b[0m\u001b[0m\n\u001b[0;32m      6\u001b[0m \u001b[1;31m# train_labels = train_df.pop('dst_host_srv_rerror_rate')\u001b[0m\u001b[1;33m\u001b[0m\u001b[1;33m\u001b[0m\u001b[0m\n",
      "\u001b[1;31mTypeError\u001b[0m: drop() takes from 2 to 6 positional arguments but 10 were given"
     ]
    }
   ],
   "source": [
    "#Load test and train data\n",
    "train_df = pd.read_csv(train_nsl_kdd_dataset_path, names = col_names)\n",
    "test_df  = pd.read_csv(test_nsl_kdd_dataset_path , names = col_names)\n",
    "train_labels = train_df.pop('dst_host_srv_rerror_rate')\n",
    "test_labels = test_df.pop('dst_host_srv_rerror_rate')\n",
    "total_dataset = pd.concat([train_df, test_df])\n",
    "#print(total_dataset.shape)\n"
   ]
  },
  {
   "cell_type": "code",
   "execution_count": 9,
   "metadata": {},
   "outputs": [
    {
     "data": {
      "text/html": [
       "<div>\n",
       "<style>\n",
       "    .dataframe thead tr:only-child th {\n",
       "        text-align: right;\n",
       "    }\n",
       "\n",
       "    .dataframe thead th {\n",
       "        text-align: left;\n",
       "    }\n",
       "\n",
       "    .dataframe tbody tr th {\n",
       "        vertical-align: top;\n",
       "    }\n",
       "</style>\n",
       "<table border=\"1\" class=\"dataframe\">\n",
       "  <thead>\n",
       "    <tr style=\"text-align: right;\">\n",
       "      <th></th>\n",
       "      <th>duration</th>\n",
       "      <th>protocol_type</th>\n",
       "      <th>service</th>\n",
       "      <th>flag</th>\n",
       "      <th>src_bytes</th>\n",
       "      <th>dst_bytes</th>\n",
       "      <th>land</th>\n",
       "      <th>wrong_fragment</th>\n",
       "      <th>urgent</th>\n",
       "      <th>hot</th>\n",
       "      <th>...</th>\n",
       "      <th>dst_host_count</th>\n",
       "      <th>dst_host_srv_count</th>\n",
       "      <th>dst_host_same_srv_rate</th>\n",
       "      <th>dst_host_diff_srv_rate</th>\n",
       "      <th>dst_host_same_src_port_rate</th>\n",
       "      <th>dst_host_srv_diff_host_rate</th>\n",
       "      <th>dst_host_serror_rate</th>\n",
       "      <th>dst_host_srv_serror_rate</th>\n",
       "      <th>dst_host_rerror_rate</th>\n",
       "      <th>labels</th>\n",
       "    </tr>\n",
       "  </thead>\n",
       "  <tbody>\n",
       "    <tr>\n",
       "      <th>0</th>\n",
       "      <td>tcp</td>\n",
       "      <td>ftp_data</td>\n",
       "      <td>SF</td>\n",
       "      <td>491</td>\n",
       "      <td>0</td>\n",
       "      <td>0</td>\n",
       "      <td>0</td>\n",
       "      <td>0</td>\n",
       "      <td>0</td>\n",
       "      <td>0</td>\n",
       "      <td>...</td>\n",
       "      <td>25</td>\n",
       "      <td>0.17</td>\n",
       "      <td>0.03</td>\n",
       "      <td>0.17</td>\n",
       "      <td>0.00</td>\n",
       "      <td>0.00</td>\n",
       "      <td>0.00</td>\n",
       "      <td>0.05</td>\n",
       "      <td>0.00</td>\n",
       "      <td>20</td>\n",
       "    </tr>\n",
       "    <tr>\n",
       "      <th>0</th>\n",
       "      <td>udp</td>\n",
       "      <td>other</td>\n",
       "      <td>SF</td>\n",
       "      <td>146</td>\n",
       "      <td>0</td>\n",
       "      <td>0</td>\n",
       "      <td>0</td>\n",
       "      <td>0</td>\n",
       "      <td>0</td>\n",
       "      <td>0</td>\n",
       "      <td>...</td>\n",
       "      <td>1</td>\n",
       "      <td>0.00</td>\n",
       "      <td>0.60</td>\n",
       "      <td>0.88</td>\n",
       "      <td>0.00</td>\n",
       "      <td>0.00</td>\n",
       "      <td>0.00</td>\n",
       "      <td>0.00</td>\n",
       "      <td>0.00</td>\n",
       "      <td>15</td>\n",
       "    </tr>\n",
       "    <tr>\n",
       "      <th>0</th>\n",
       "      <td>tcp</td>\n",
       "      <td>private</td>\n",
       "      <td>S0</td>\n",
       "      <td>0</td>\n",
       "      <td>0</td>\n",
       "      <td>0</td>\n",
       "      <td>0</td>\n",
       "      <td>0</td>\n",
       "      <td>0</td>\n",
       "      <td>0</td>\n",
       "      <td>...</td>\n",
       "      <td>26</td>\n",
       "      <td>0.10</td>\n",
       "      <td>0.05</td>\n",
       "      <td>0.00</td>\n",
       "      <td>0.00</td>\n",
       "      <td>1.00</td>\n",
       "      <td>1.00</td>\n",
       "      <td>0.00</td>\n",
       "      <td>0.00</td>\n",
       "      <td>19</td>\n",
       "    </tr>\n",
       "    <tr>\n",
       "      <th>0</th>\n",
       "      <td>tcp</td>\n",
       "      <td>http</td>\n",
       "      <td>SF</td>\n",
       "      <td>232</td>\n",
       "      <td>8153</td>\n",
       "      <td>0</td>\n",
       "      <td>0</td>\n",
       "      <td>0</td>\n",
       "      <td>0</td>\n",
       "      <td>0</td>\n",
       "      <td>...</td>\n",
       "      <td>255</td>\n",
       "      <td>1.00</td>\n",
       "      <td>0.00</td>\n",
       "      <td>0.03</td>\n",
       "      <td>0.04</td>\n",
       "      <td>0.03</td>\n",
       "      <td>0.01</td>\n",
       "      <td>0.00</td>\n",
       "      <td>0.01</td>\n",
       "      <td>21</td>\n",
       "    </tr>\n",
       "    <tr>\n",
       "      <th>0</th>\n",
       "      <td>tcp</td>\n",
       "      <td>http</td>\n",
       "      <td>SF</td>\n",
       "      <td>199</td>\n",
       "      <td>420</td>\n",
       "      <td>0</td>\n",
       "      <td>0</td>\n",
       "      <td>0</td>\n",
       "      <td>0</td>\n",
       "      <td>0</td>\n",
       "      <td>...</td>\n",
       "      <td>255</td>\n",
       "      <td>1.00</td>\n",
       "      <td>0.00</td>\n",
       "      <td>0.00</td>\n",
       "      <td>0.00</td>\n",
       "      <td>0.00</td>\n",
       "      <td>0.00</td>\n",
       "      <td>0.00</td>\n",
       "      <td>0.00</td>\n",
       "      <td>21</td>\n",
       "    </tr>\n",
       "  </tbody>\n",
       "</table>\n",
       "<p>5 rows × 41 columns</p>\n",
       "</div>"
      ],
      "text/plain": [
       "  duration protocol_type service  flag  src_bytes  dst_bytes  land  \\\n",
       "0      tcp      ftp_data      SF   491          0          0     0   \n",
       "0      udp         other      SF   146          0          0     0   \n",
       "0      tcp       private      S0     0          0          0     0   \n",
       "0      tcp          http      SF   232       8153          0     0   \n",
       "0      tcp          http      SF   199        420          0     0   \n",
       "\n",
       "   wrong_fragment  urgent  hot   ...    dst_host_count  dst_host_srv_count  \\\n",
       "0               0       0    0   ...                25                0.17   \n",
       "0               0       0    0   ...                 1                0.00   \n",
       "0               0       0    0   ...                26                0.10   \n",
       "0               0       0    0   ...               255                1.00   \n",
       "0               0       0    0   ...               255                1.00   \n",
       "\n",
       "   dst_host_same_srv_rate  dst_host_diff_srv_rate  \\\n",
       "0                    0.03                    0.17   \n",
       "0                    0.60                    0.88   \n",
       "0                    0.05                    0.00   \n",
       "0                    0.00                    0.03   \n",
       "0                    0.00                    0.00   \n",
       "\n",
       "   dst_host_same_src_port_rate  dst_host_srv_diff_host_rate  \\\n",
       "0                         0.00                         0.00   \n",
       "0                         0.00                         0.00   \n",
       "0                         0.00                         1.00   \n",
       "0                         0.04                         0.03   \n",
       "0                         0.00                         0.00   \n",
       "\n",
       "   dst_host_serror_rate  dst_host_srv_serror_rate  dst_host_rerror_rate  \\\n",
       "0                  0.00                      0.05                  0.00   \n",
       "0                  0.00                      0.00                  0.00   \n",
       "0                  1.00                      0.00                  0.00   \n",
       "0                  0.01                      0.00                  0.01   \n",
       "0                  0.00                      0.00                  0.00   \n",
       "\n",
       "   labels  \n",
       "0      20  \n",
       "0      15  \n",
       "0      19  \n",
       "0      21  \n",
       "0      21  \n",
       "\n",
       "[5 rows x 41 columns]"
      ]
     },
     "execution_count": 9,
     "metadata": {},
     "output_type": "execute_result"
    }
   ],
   "source": [
    "\n",
    "total_dataset.head()\n",
    "total_dataset.shape\n",
    "#train_df\n",
    "\n",
    "total_dataset = total_dataset[['protocol_type','flag','count']]"
   ]
  },
  {
   "cell_type": "code",
   "execution_count": 9,
   "metadata": {
    "collapsed": true
   },
   "outputs": [],
   "source": [
    "#print(pd.get_dummies(train_df, columns=['flag']))\n",
    "#get = train_df.pop('protocol_type')\n",
    "#print(get)\n",
    "#pd.get_dummies(get)"
   ]
  },
  {
   "cell_type": "code",
   "execution_count": 10,
   "metadata": {
    "collapsed": true
   },
   "outputs": [],
   "source": [
    "#test_df.head(),train_df.head()\n",
    "    "
   ]
  },
  {
   "cell_type": "code",
   "execution_count": 11,
   "metadata": {
    "scrolled": false
   },
   "outputs": [
    {
     "name": "stdout",
     "output_type": "stream",
     "text": [
      "(125973, 72) (22544, 72)\n"
     ]
    }
   ],
   "source": [
    "total_dataset = pd.get_dummies(total_dataset)\n",
    "#print(total_dataset.shape)\n",
    "#train_size = int(len(total_dataset) * 0.80)\n",
    "#print(train_size)\n",
    "#test_size = len(total_dataset) - train_size\n",
    "#print(test_size)\n",
    "train_df = total_dataset.iloc[0:125973, :]\n",
    "test_df = total_dataset.iloc[125973:, :]\n",
    "print(train_df.shape, test_df.shape)"
   ]
  },
  {
   "cell_type": "code",
   "execution_count": 12,
   "metadata": {
    "collapsed": true,
    "scrolled": true
   },
   "outputs": [],
   "source": [
    "#total_dataset.head()"
   ]
  },
  {
   "cell_type": "code",
   "execution_count": 13,
   "metadata": {
    "collapsed": true
   },
   "outputs": [],
   "source": [
    "train_labels_for_two_class = pd.DataFrame(train_labels.as_matrix(), columns=[\"class\"])\n",
    "#print(train_labels_for_two_class)\n",
    "test_labels_for_two_class = pd.DataFrame(test_labels.as_matrix(), columns=[\"class\"])"
   ]
  },
  {
   "cell_type": "code",
   "execution_count": 14,
   "metadata": {
    "collapsed": true
   },
   "outputs": [],
   "source": [
    "train_labels_for_two_class.loc[train_labels_for_two_class['class'].isin(attack_two_class) , 'class'] = 1\n",
    "train_labels_for_two_class.loc[train_labels_for_two_class['class'] == \"normal\" , 'class'] = 0\n",
    "#print(train_labels_for_two_class)\n",
    "#for test labels \n",
    "test_labels_for_two_class.loc[test_labels_for_two_class['class'].isin(attack_two_class) , 'class'] = 1\n",
    "test_labels_for_two_class.loc[test_labels_for_two_class['class'] == \"normal\" , 'class'] = 0\n",
    "\n",
    "\n"
   ]
  },
  {
   "cell_type": "code",
   "execution_count": 15,
   "metadata": {},
   "outputs": [
    {
     "name": "stdout",
     "output_type": "stream",
     "text": [
      "(125973, 2)\n",
      "(125973, 2)\n"
     ]
    }
   ],
   "source": [
    "train_labels_for_two_class = np_utils.to_categorical(train_labels_for_two_class)\n",
    "print(train_labels_for_two_class.shape)\n",
    "test_labels_for_two_class = np_utils.to_categorical(test_labels_for_two_class)\n",
    "print(train_labels_for_two_class.shape)"
   ]
  },
  {
   "cell_type": "code",
   "execution_count": 16,
   "metadata": {},
   "outputs": [
    {
     "name": "stderr",
     "output_type": "stream",
     "text": [
      "C:\\Anaconda3\\lib\\site-packages\\sklearn\\utils\\validation.py:475: DataConversionWarning: Data with input dtype int64 was converted to float64 by MinMaxScaler.\n",
      "  warnings.warn(msg, DataConversionWarning)\n"
     ]
    },
    {
     "data": {
      "text/plain": [
       "array([[ 0.,  1.],\n",
       "       [ 0.,  1.],\n",
       "       [ 1.,  0.],\n",
       "       ..., \n",
       "       [ 0.,  1.],\n",
       "       [ 1.,  0.],\n",
       "       [ 0.,  1.]])"
      ]
     },
     "execution_count": 16,
     "metadata": {},
     "output_type": "execute_result"
    }
   ],
   "source": [
    "#min-max mazimazation for the data\n",
    "from sklearn.preprocessing import MinMaxScaler\n",
    "train_X = train_df.as_matrix()\n",
    "train_Y = train_labels_for_two_class\n",
    "\n",
    "test_X = test_df.as_matrix()\n",
    "test_Y = test_labels_for_two_class\n",
    "scaler = MinMaxScaler() \n",
    "scaler.fit_transform(train_X)\n",
    "scaler.fit_transform(train_Y)\n",
    "scaler.fit_transform(test_X)\n",
    "scaler.fit_transform(test_Y)\n",
    "#train_X.shape[1]\n",
    "    "
   ]
  },
  {
   "cell_type": "code",
   "execution_count": 17,
   "metadata": {
    "collapsed": true
   },
   "outputs": [],
   "source": [
    "#Training our auto encoder\n",
    "\n",
    "import pandas as pd\n",
    "import numpy as np\n",
    "import pickle\n",
    "import matplotlib.pyplot as plt\n",
    "from scipy import stats\n",
    "import tensorflow as tf\n",
    "import seaborn as sns\n",
    "from pylab import rcParams\n",
    "from sklearn.model_selection import train_test_split\n",
    "from keras.models import Model, load_model\n",
    "from keras.layers import Input, Dense\n",
    "from keras.callbacks import ModelCheckpoint, TensorBoard\n",
    "from keras import regularizers\n",
    "\n"
   ]
  },
  {
   "cell_type": "code",
   "execution_count": 18,
   "metadata": {
    "collapsed": true
   },
   "outputs": [],
   "source": [
    "input_dim = train_X.shape[1]\n",
    "input_layer = Input(shape=(input_dim, ))\n",
    "encoder = Dense(30, activation=\"sigmoid\", \n",
    "                activity_regularizer=regularizers.l1(10e-5))(input_layer)\n",
    "decoder = Dense(input_dim, activation='relu')(encoder)\n",
    "autoencoder = Model(inputs=input_layer, outputs=decoder)\n"
   ]
  },
  {
   "cell_type": "code",
   "execution_count": 19,
   "metadata": {},
   "outputs": [
    {
     "name": "stdout",
     "output_type": "stream",
     "text": [
      "Train on 125973 samples, validate on 22544 samples\n",
      "Epoch 1/2\n",
      "125973/125973 [==============================] - 3s 21us/step - loss: 478647098046.6931 - acc: 0.5043 - val_loss: 3105903205.6707 - val_acc: 0.3975\n",
      "Epoch 2/2\n",
      "125973/125973 [==============================] - 3s 21us/step - loss: 478647094650.5942 - acc: 0.4918 - val_loss: 3105902763.4039 - val_acc: 0.3975\n"
     ]
    }
   ],
   "source": [
    "nb_epoch = 2\n",
    "batch_size = 128\n",
    "autoencoder.compile(optimizer='adam', \n",
    "                    loss='mean_squared_error', \n",
    "                    metrics=['accuracy'])\n",
    "checkpointer = ModelCheckpoint(filepath=\"model.h5\",\n",
    "                               verbose=0,\n",
    "                               save_best_only=True)\n",
    "\n",
    "history = autoencoder.fit(train_X,train_X ,\n",
    "                    epochs=nb_epoch,\n",
    "                    verbose = 1,\n",
    "                    batch_size=batch_size,\n",
    "                    shuffle=True,\n",
    "                    validation_data=(test_X, test_X)).history"
   ]
  },
  {
   "cell_type": "code",
   "execution_count": 27,
   "metadata": {
    "collapsed": true
   },
   "outputs": [],
   "source": [
    "#  feat1 = Model(autoencoder, history)\n",
    "#  print(encoder.input)\n",
    "# X_train1 = autoencoder.predict(train_X)\n",
    "# X_train1\n",
    "\n",
    "encoder = Model(input_layer, encoder)"
   ]
  },
  {
   "cell_type": "code",
   "execution_count": 28,
   "metadata": {
    "collapsed": true
   },
   "outputs": [],
   "source": [
    "out2 = Dense(2, activation='softmax')(encoder.output)\n",
    "newmodel = Model(encoder.input,out2)"
   ]
  },
  {
   "cell_type": "code",
   "execution_count": 29,
   "metadata": {},
   "outputs": [
    {
     "data": {
      "text/plain": [
       "(22544, 72)"
      ]
     },
     "execution_count": 29,
     "metadata": {},
     "output_type": "execute_result"
    }
   ],
   "source": [
    "test_X.shape"
   ]
  },
  {
   "cell_type": "code",
   "execution_count": 30,
   "metadata": {},
   "outputs": [
    {
     "name": "stdout",
     "output_type": "stream",
     "text": [
      "Train on 125973 samples, validate on 22544 samples\n",
      "Epoch 1/10\n",
      "125973/125973 [==============================] - 3s 26us/step - loss: 0.8354 - acc: 0.5346 - val_loss: 0.9934 - val_acc: 0.4308\n",
      "Epoch 2/10\n",
      "125973/125973 [==============================] - 3s 21us/step - loss: 0.8214 - acc: 0.5348 - val_loss: 0.9841 - val_acc: 0.4310\n",
      "Epoch 3/10\n",
      "125973/125973 [==============================] - 3s 21us/step - loss: 0.8082 - acc: 0.5366 - val_loss: 0.9755 - val_acc: 0.4314\n",
      "Epoch 4/10\n",
      "125973/125973 [==============================] - 2s 19us/step - loss: 0.7956 - acc: 0.5527 - val_loss: 0.9676 - val_acc: 0.4537\n",
      "Epoch 5/10\n",
      "125973/125973 [==============================] - 2s 16us/step - loss: 0.7834 - acc: 0.5712 - val_loss: 0.9601 - val_acc: 0.4696\n",
      "Epoch 6/10\n",
      "125973/125973 [==============================] - 2s 16us/step - loss: 0.7706 - acc: 0.5995 - val_loss: 0.9520 - val_acc: 0.4829\n",
      "Epoch 7/10\n",
      "125973/125973 [==============================] - 2s 16us/step - loss: 0.7527 - acc: 0.6342 - val_loss: 0.9556 - val_acc: 0.4978\n",
      "Epoch 8/10\n",
      "125973/125973 [==============================] - 2s 17us/step - loss: 0.7326 - acc: 0.6570 - val_loss: 0.9547 - val_acc: 0.5115\n",
      "Epoch 9/10\n",
      "125973/125973 [==============================] - 2s 16us/step - loss: 0.7197 - acc: 0.6745 - val_loss: 0.9453 - val_acc: 0.5154\n",
      "Epoch 10/10\n",
      "125973/125973 [==============================] - 2s 16us/step - loss: 0.7093 - acc: 0.6887 - val_loss: 0.9371 - val_acc: 0.5264\n"
     ]
    },
    {
     "data": {
      "text/plain": [
       "<keras.callbacks.History at 0x1ef0134d2b0>"
      ]
     },
     "execution_count": 30,
     "metadata": {},
     "output_type": "execute_result"
    }
   ],
   "source": [
    "from keras import optimizers\n",
    "opt = optimizers.SGD(lr=0.00001)\n",
    "newmodel.compile(loss='categorical_crossentropy',\n",
    "          optimizer=opt, \n",
    "          metrics=['accuracy']) \n",
    "\n",
    "newmodel.fit(train_X, train_Y,\n",
    "      epochs=10,\n",
    "      batch_size=128,\n",
    "      shuffle=True,\n",
    "      validation_data=(test_X, test_Y))\n"
   ]
  },
  {
   "cell_type": "code",
   "execution_count": 32,
   "metadata": {},
   "outputs": [
    {
     "name": "stdout",
     "output_type": "stream",
     "text": [
      "50/50 [==============================] - 1s 28ms/step\n"
     ]
    },
    {
     "data": {
      "text/plain": [
       "[35.076221466064453, 0.52639281749725342]"
      ]
     },
     "execution_count": 32,
     "metadata": {},
     "output_type": "execute_result"
    }
   ],
   "source": [
    "scores = newmodel.evaluate(test_X, test_Y, verbose=1, steps=50) \n",
    "#print(\"Accuracy: \", scores[1])\n",
    "scores "
   ]
  },
  {
   "cell_type": "code",
   "execution_count": null,
   "metadata": {
    "collapsed": true
   },
   "outputs": [],
   "source": []
  }
 ],
 "metadata": {
  "kernelspec": {
   "display_name": "Python 3",
   "language": "python",
   "name": "python3"
  }
 },
 "nbformat": 4,
 "nbformat_minor": 2
}
